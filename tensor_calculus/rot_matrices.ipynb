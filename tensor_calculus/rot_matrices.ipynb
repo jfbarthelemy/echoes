{
  "cells": [
    {
      "cell_type": "markdown",
      "metadata": {},
      "source": [
        "# Rotation matrices {#sec-rot_tensors}\n",
        "\n",
        "::: {.callout-important icon=false} \n",
        "\n",
        "## {{< iconify pajamas issue-type-objective >}} Objectives\n",
        "\n",
        "This tutorial presents the construction of rotation matrices in $\\R^3$ in the convention proposed in @sec-rottens for Euler angles.\n",
        "\n",
        ":::\n",
        "\n",
        "::: {.callout-note icon=false collapse=true} \n",
        "\n",
        "## {{< iconify flowbite download-outline >}} Download\n",
        "\n",
        "- [Python script](rot_matrices.py)\n",
        "\n",
        "- [Jupyter notebook](rot_matrices.ipynb)\n",
        "\n",
        ":::\n",
        "\n",
        "::: {.callout-tip icon=false collapse=true} \n",
        "\n",
        "## {{< iconify ix import >}} Imports"
      ]
    },
    {
      "cell_type": "code",
      "metadata": {},
      "source": [
        "#| error: false\n",
        "#| warning: false\n",
        "#| code-fold: false\n",
        "#| code-summary: Code for library imports\n",
        "#| include: true\n",
        "\n",
        "import numpy as np\n",
        "from echoes import *\n",
        "import math, random\n",
        "\n",
        "np.set_printoptions(precision=8, suppress=True)\n",
        "# to display only 8 significant digits of array components"
      ],
      "execution_count": null,
      "outputs": []
    },
    {
      "cell_type": "markdown",
      "metadata": {},
      "source": [
        ":::\n",
        "\n",
        "Given the Euler angles `θ, ϕ, ψ` defined in @sec-rottens and more particularly in @fig-eurlerangles, the rotation matrix (@eq-rot3) recalled here\n",
        "$$\n",
        "\\small\n",
        "\\mat{R}=\n",
        "   \\left(\n",
        "   \\begin{array}{ccc}\n",
        "   c_\\theta  c_\\psi  c_\\phi - s_\\psi  s_\\phi & - c_\\theta  c_\\phi  s_\\psi - c_\\psi  s_\\phi & c_\\phi  s_\\theta \\\\\n",
        "   c_\\theta  c_\\psi  s_\\phi + c_\\phi  s_\\psi & - c_\\theta  s_\\psi  s_\\phi + c_\\psi  c_\\phi & s_\\theta  s_\\phi \\\\\n",
        "   - c_\\psi  s_\\theta & s_\\theta  s_\\psi & c_\\theta \\\\\n",
        "   \\end{array}\n",
        "   \\right) \n",
        "$$\n",
        "\n",
        "can be built with `rot3(θ, ϕ, ψ)`"
      ]
    },
    {
      "cell_type": "code",
      "metadata": {},
      "source": [
        "#| error: false\n",
        "#| warning: false\n",
        "#| code-fold: false\n",
        "#| include: true\n",
        "\n",
        "π = math.pi\n",
        "θ, ϕ, ψ = π/3, π/4, π/5\n",
        "R = rot3(θ, ϕ, ψ)\n",
        "print(\"R =\\n\",R)"
      ],
      "execution_count": null,
      "outputs": []
    },
    {
      "cell_type": "markdown",
      "metadata": {},
      "source": [
        "The vectors of the spherical basis correspond to the column of the rotation matrix for $\\psi=0$. They can individually be obtained by the function `es(i, θ, ϕ)`\n",
        "\n",
        "::: {.callout-warning} \n",
        "\n",
        "## Warning\n",
        "\n",
        "Python numbering starts at 0 so `i` takes the values 0, 1 and 2.\n",
        "\n",
        "Besides vectors of the spherical basis are ordered as $\\ve{\\theta}$, $\\ve{\\phi}$, $\\ve{r}$.\n",
        "\n",
        ":::"
      ]
    },
    {
      "cell_type": "code",
      "metadata": {},
      "source": [
        "#| error: false\n",
        "#| warning: false\n",
        "#| code-fold: false\n",
        "#| include: true\n",
        "\n",
        "θ, ϕ = π/8, π/5\n",
        "R = rot3(θ, ϕ)\n",
        "print(\"R =\\n\",R)\n",
        "for i in range(3): print(f\"es({i}, θ, ϕ) = \", es(i, θ, ϕ), f\" → e̱{['θ','ϕ','r'][i]}\")"
      ],
      "execution_count": null,
      "outputs": []
    },
    {
      "cell_type": "markdown",
      "metadata": {},
      "source": [
        "As shown in @sec-rottens the rotation matrix applying on fourth-order tensors in Kelvin-Mandel notation can be deduced from the $3×3$ rotation matrix from @eq-rot6\n",
        "$$\n",
        "\\scriptsize\n",
        "   \\left(\n",
        "\\begin{array}{cccccc}\n",
        "R_{1 1}^{2} & R_{1 2}^{2} & R_{1 3}^{2} & \\sqrt{2}  R_{1 2}  R_{1 3} & \\sqrt{2}  R_{1 1}  R_{1 3} & \\sqrt{2}  R_{1 1}  R_{1 2} \\\\\n",
        "R_{2 1}^{2} & R_{2 2}^{2} & R_{2 3}^{2} & \\sqrt{2}  R_{2 2}  R_{2 3} & \\sqrt{2}  R_{2 1}  R_{2 3} & \\sqrt{2}  R_{2 1}  R_{2 2} \\\\\n",
        "R_{3 1}^{2} & R_{3 2}^{2} & R_{3 3}^{2} & \\sqrt{2}  R_{3 2}  R_{3 3} & \\sqrt{2}  R_{3 1}  R_{3 3} & \\sqrt{2}  R_{3 1}  R_{3 2} \\\\\n",
        "\\sqrt{2}  R_{2 1}  R_{3 1} & \\sqrt{2}  R_{2 2}  R_{3 2} & \\sqrt{2}  R_{2 3}  R_{3 3} & R_{2 2}  R_{3 3} + R_{2 3}  R_{3 2} & R_{2 1}  R_{3 3} + R_{2 3}  R_{3 1} & R_{2 1}  R_{3 2} + R_{2 2}  R_{3 1} \\\\\n",
        "\\sqrt{2}  R_{1 1}  R_{3 1} & \\sqrt{2}  R_{1 2}  R_{3 2} & \\sqrt{2}  R_{1 3}  R_{3 3} & R_{1 2}  R_{3 3} + R_{1 3}  R_{3 2} & R_{1 1}  R_{3 3} + R_{1 3}  R_{3 1} & R_{1 1}  R_{3 2} + R_{1 2}  R_{3 1} \\\\\n",
        "\\sqrt{2}  R_{1 1}  R_{2 1} & \\sqrt{2}  R_{1 2}  R_{2 2} & \\sqrt{2}  R_{1 3}  R_{2 3} & R_{1 2}  R_{2 3} + R_{1 3}  R_{2 2} & R_{1 1}  R_{2 3} + R_{1 3}  R_{2 1} & R_{1 1}  R_{2 2} + R_{1 2}  R_{2 1} \\\\\n",
        "\\end{array}\n",
        "\\right)\n",
        "$$\n",
        "\n",
        "It can be directly obtained by `rot6(θ, ϕ, ψ)`. "
      ]
    },
    {
      "cell_type": "code",
      "metadata": {},
      "source": [
        "#| error: false\n",
        "#| warning: false\n",
        "#| code-fold: false\n",
        "#| include: true\n",
        "\n",
        "θ, ϕ, ψ = π/3, π/4, π/5\n",
        "R = rot3(θ, ϕ, ψ)\n",
        "sboxtimes=lambda a,b:0.5*(np.einsum('ik,jl',a,b)+np.einsum('il,jk',a,b))\n",
        "print(\"R⊠ˢR =\\n\",KM(sboxtimes(R,R)))\n",
        "\n",
        "ℝ = rot6(θ, ϕ, ψ)\n",
        "print(\"ℝ =\\n\",ℝ)"
      ],
      "execution_count": null,
      "outputs": []
    },
    {
      "cell_type": "markdown",
      "metadata": {},
      "source": [
        "$\\,$"
      ]
    }
  ],
  "metadata": {
    "kernelspec": {
      "name": "python3",
      "language": "python",
      "display_name": "Python 3 (ipykernel)",
      "path": "C:\\Python\\share\\jupyter\\kernels\\python3"
    }
  },
  "nbformat": 4,
  "nbformat_minor": 4
}