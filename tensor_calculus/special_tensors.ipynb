{
  "cells": [
    {
      "cell_type": "markdown",
      "metadata": {},
      "source": [
        "# Special tensors {#sec-special_tensors}\n",
        "\n",
        "::: {.callout-important icon=false} \n",
        "\n",
        "## {{< iconify pajamas issue-type-objective >}} Objectives\n",
        "\n",
        "This tutorial presents the matrix representation of isotropic tensors of second and fourth orders as well as Walpole tensors useful for transverse isotropy. It strongly relies on conventions of tensor algebra introduced in @sec-tensor_algebra especially in terms of products and contractions.\n",
        "\n",
        ":::\n",
        "\n",
        "::: {.callout-note icon=false collapse=true} \n",
        "\n",
        "## {{< iconify flowbite download-outline >}} Download\n",
        "\n",
        "- [Python script](special_tensors.py)\n",
        "\n",
        "- [Jupyter notebook](special_tensors.ipynb)\n",
        "\n",
        ":::\n",
        "\n",
        "::: {.callout-tip icon=false collapse=true} \n",
        "\n",
        "## {{< iconify ix import >}} Imports"
      ]
    },
    {
      "cell_type": "code",
      "metadata": {},
      "source": [
        "#| error: false\n",
        "#| warning: false\n",
        "#| code-fold: false\n",
        "#| code-summary: Code for library imports\n",
        "#| include: true\n",
        "\n",
        "import numpy as np\n",
        "from echoes import *\n",
        "import math, random\n",
        "\n",
        "np.set_printoptions(precision=6, suppress=True)\n",
        "# to display only 6 significant digits of array components"
      ],
      "execution_count": null,
      "outputs": []
    },
    {
      "cell_type": "markdown",
      "metadata": {},
      "source": [
        ":::\n",
        "\n",
        "## Second order identity\n",
        "\n",
        "The second order identity $\\uu{1}=\\delta_{ij}\\ve{i}\\otimes\\ve{j}$ is given in Kelvin-Mandel notation (i.e. vector of $\\R^6$) by the constant vector `Id2`"
      ]
    },
    {
      "cell_type": "code",
      "metadata": {},
      "source": [
        "#| error: false\n",
        "#| warning: false\n",
        "#| code-fold: false\n",
        "#| include: true\n",
        "\n",
        "δ = Id2\n",
        "print(\"𝟏 (Kelvin-Mandel notation) =\\n\",δ)\n",
        "print(\"𝟏 =\\n\",invKM(δ))"
      ],
      "execution_count": null,
      "outputs": []
    },
    {
      "cell_type": "markdown",
      "metadata": {},
      "source": [
        "## Fourth order isotropic tensors\n",
        "\n",
        "As detailed in @sec-ISO, the fourth-order identity tensor is\n",
        "\n",
        "$$\n",
        "\\uuuu{I}=\\uu{1}\\sboxtimes\\uu{1}=\n",
        "\\frac{\\delta_{ik}\\delta_{jl}+\\delta_{il}\\delta_{jk}}{2}\\,\\ve{i}\\otimes\\ve{j}\\otimes\\ve{k}\\otimes\\ve{l}\n",
        "$$\n",
        "\n",
        "and the projectors\n",
        "\n",
        "$$\n",
        "\\uuuu{J}=\\frac{1}{3}\\uu{1}\\otimes\\uu{1}\n",
        "\\quad \\textrm{and} \\quad\n",
        "\\uuuu{K}=\\uuuu{I}-\\uuuu{J}=\\uu{1}\\sboxtimes\\uu{1}-\\frac{1}{3}\\uu{1}\\otimes\\uu{1}\n",
        "$$\n",
        "\n",
        "which are provided in `echoes` by `Id4`, `J4` and `K4`"
      ]
    },
    {
      "cell_type": "code",
      "metadata": {},
      "source": [
        "#| error: false\n",
        "#| warning: false\n",
        "#| code-fold: false\n",
        "#| include: true\n",
        "\n",
        "for T in [Id4, J4, K4]:\n",
        "    print(T)"
      ],
      "execution_count": null,
      "outputs": []
    },
    {
      "cell_type": "markdown",
      "metadata": {},
      "source": [
        "## Walpole bases\n",
        "\n",
        "The Walpole bases are useful to decompose transversely isotropic fourth order tensors. They are presented in @sec-TI. The Kelvin-Mandel representation of the $i^\\textrm{th}$ Walpole tensor oriented along an axis $\\n$ is constructed by `W(i,n=e₃)` ($i \\in \\{0,..,5\\}$ and the normal is by default oriented along the third axis). The symmetrized version is provided by `WS(i,n=e₃)` ($i \\in \\{0,..,4\\}$).\n",
        "\n",
        "::: {.callout-warning} \n",
        "\n",
        "## Warning\n",
        "\n",
        "Note again the shift in indices between the Python convention starting at 0 and the tensors presented in @sec-TI.\n",
        "\n",
        ":::"
      ]
    },
    {
      "cell_type": "code",
      "metadata": {},
      "source": [
        "#| error: false\n",
        "#| warning: false\n",
        "#| code-fold: false\n",
        "#| include: true\n",
        "for i in range(6):\n",
        "    print(\"𝕎\"+str(i+1)+\" =\\n\",W(i))\n",
        "\n",
        "for i in range(5):\n",
        "    print(\"𝕎ˢ\"+str(i+1)+\" =\\n\",WS(i))"
      ],
      "execution_count": null,
      "outputs": []
    },
    {
      "cell_type": "markdown",
      "metadata": {},
      "source": [
        "$\\,$"
      ]
    }
  ],
  "metadata": {
    "kernelspec": {
      "name": "python3",
      "language": "python",
      "display_name": "Python 3 (ipykernel)",
      "path": "C:\\Python\\share\\jupyter\\kernels\\python3"
    }
  },
  "nbformat": 4,
  "nbformat_minor": 4
}