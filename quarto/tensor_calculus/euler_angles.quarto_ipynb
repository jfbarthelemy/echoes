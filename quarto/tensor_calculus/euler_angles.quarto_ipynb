{
  "cells": [
    {
      "cell_type": "markdown",
      "metadata": {},
      "source": [
        "# Euler angles {#sec-euler_angles}\n",
        "\n",
        "::: {.callout-important icon=false} \n",
        "\n",
        "## {{< iconify pajamas issue-type-objective >}} Objectives\n",
        "\n",
        "This tutorial presents the convention used to define Euler angles and rotation matrices in $\\R^3$.\n",
        "\n",
        ":::\n",
        "\n",
        "In $\\R^3$ a rotation $\\uu{R}$ (orthogonal second-order tensor i.e. such that $\\trans{\\uu{R}}\\cdot\\uu{R}=\\uu{1}$ with $\\det{\\uu{R}}=1$) can be defined by three Euler angles $0\\leq\\theta\\leq\\pi$, $0\\leq\\phi\\leq 2\\pi$ and $0\\leq\\psi\\leq 2\\pi$ such that, with the simplifying writing convention $c_\\theta=\\cos\\theta$, $s_\\theta=\\sin\\theta$, $c_\\phi=\\cos\\phi$, $s_\\phi=\\sin\\phi$, $c_\\psi=\\cos\\psi$, $s_\\psi=\\sin\\psi$, the matrix writes\n",
        "\n",
        "$$\n",
        "\\Mat(\\uu{R},(\\ve{i}))=\n",
        "   \\left(\n",
        "   \\begin{array}{ccc}\n",
        "   c_\\theta  c_\\psi  c_\\phi - s_\\psi  s_\\phi & - c_\\theta  c_\\phi  s_\\psi - c_\\psi  s_\\phi & c_\\phi  s_\\theta \\\\\n",
        "   c_\\theta  c_\\psi  s_\\phi + c_\\phi  s_\\psi & - c_\\theta  s_\\psi  s_\\phi + c_\\psi  c_\\phi & s_\\theta  s_\\phi \\\\\n",
        "   - c_\\psi  s_\\theta & s_\\theta  s_\\psi & c_\\theta \\\\\n",
        "   \\end{array}\n",
        "   \\right) \n",
        "$${#eq-rotation}\n",
        "\n",
        "This convention geometrically corresponds to @fig-sphcoor.\n",
        "\n",
        "::: {#fig-sphcoor}\n",
        "::: {.content-visible unless-format=\"html\"}\n",
        "![](../images/sphcoor){width=50%}\n",
        ":::\n",
        "::: {.content-visible when-format=\"html\"}\n",
        "![](../images/sphcoor.html){width=100%}\n",
        "[![](../images/arrow-expand.png){width=3%}](../images/sphcoor.html)\n",
        ":::\n",
        "Euler angles\n",
        ":::\n",
        "\n",
        "The rotation matrix (@eq-rotation) can be built with `rot3(θ, ϕ, ψ)`\n"
      ],
      "id": "8640381e"
    },
    {
      "cell_type": "code",
      "metadata": {},
      "source": [
        "#| error: false\n",
        "#| warning: false\n",
        "#| code-fold: false\n",
        "#| include: true\n",
        "\n",
        "import numpy as np\n",
        "from echoes import *\n",
        "import math\n",
        "\n",
        "np.set_printoptions(precision=8, suppress=True)\n",
        "# to display only 8 significant digits of array components\n",
        "\n",
        "π = math.pi\n",
        "θ, ϕ, ψ = π/3, π/4, π/5\n",
        "R = rot3(θ, ϕ, ψ)\n",
        "print(R)"
      ],
      "id": "c9d8270a",
      "execution_count": null,
      "outputs": []
    },
    {
      "cell_type": "markdown",
      "metadata": {},
      "source": [
        "$\\,$"
      ],
      "id": "221e97b0"
    }
  ],
  "metadata": {
    "kernelspec": {
      "name": "python3",
      "language": "python",
      "display_name": "Python 3 (ipykernel)",
      "path": "C:\\Python\\share\\jupyter\\kernels\\python3"
    }
  },
  "nbformat": 4,
  "nbformat_minor": 5
}