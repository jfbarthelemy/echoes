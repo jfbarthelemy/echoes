{
  "cells": [
    {
      "cell_type": "markdown",
      "metadata": {},
      "source": [
        "# Kelvin-Mandel notation {#sec-kelvin_mandel}\n",
        "\n",
        "::: {.callout-important icon=false} \n",
        "\n",
        "## {{< iconify pajamas issue-type-objective >}} Objectives\n",
        "\n",
        "Before introducing the specific objects of `echoes` devoted to tensor calculations in isotropic or anisotropic contexts, this tutorial aims at providing the syntax allowing to represent second-order or fourth-order tensors under the form of matrices in the Kelvin-Mandel notation as detailed in @sec-KM.\n",
        "\n",
        ":::\n",
        "\n",
        "::: {.callout-note icon=false collapse=true} \n",
        "\n",
        "## {{< iconify flowbite download-outline >}} Download\n",
        "\n",
        "- [Python script](kelvin_mandel.py)\n",
        "\n",
        "- [Jupyter notebook](kelvin_mandel.ipynb)\n",
        "\n",
        ":::\n",
        "\n",
        "::: {.callout-tip icon=false collapse=true} \n",
        "\n",
        "## {{< iconify ix import >}} Imports"
      ]
    },
    {
      "cell_type": "code",
      "metadata": {},
      "source": [
        "#| error: false\n",
        "#| warning: false\n",
        "#| code-fold: false\n",
        "#| code-summary: Code for library imports\n",
        "#| include: true\n",
        "\n",
        "import numpy as np\n",
        "from echoes import *\n",
        "import math, random\n",
        "\n",
        "np.set_printoptions(precision=8, suppress=True)\n",
        "# to display only 8 significant digits of array components"
      ],
      "execution_count": null,
      "outputs": []
    },
    {
      "cell_type": "markdown",
      "metadata": {},
      "source": [
        ":::\n",
        "\n",
        "\n",
        "A symmetric $3×3$ second-order matrix can be transformed in a vector of $\\R^6$ by the function `KM` consistently with @eq-KM2. The inverse is done by `invKM`."
      ]
    },
    {
      "cell_type": "code",
      "metadata": {},
      "source": [
        "#| error: false\n",
        "#| warning: false\n",
        "#| code-fold: false\n",
        "#| include: true\n",
        "\n",
        "α = np.random.rand(3, 3) ; ε = (α+α.T)/2\n",
        "print(\"ε =\\n\",ε)\n",
        "print(\"KM(ε) =\\n\",KM(ε))\n",
        "assert np.allclose(invKM(KM(ε)), ε), \"error\""
      ],
      "execution_count": null,
      "outputs": []
    },
    {
      "cell_type": "markdown",
      "metadata": {},
      "source": [
        "Given a $3×3×3×3$ array `c` (of type `numpy.ndarray`) satisfying major and minor symmetries (see @sec-KM),  the corresponding $6×6$ matrix `C` obtained by Kelvin-Mandel transform is calculated by `C = KM(c)`. Conversely, if `C` is a positive definite matrix, `c` is calculated by `c = invKM(C)`."
      ]
    },
    {
      "cell_type": "code",
      "metadata": {},
      "source": [
        "#| error: false\n",
        "#| warning: false\n",
        "#| code-fold: false\n",
        "#| include: true\n",
        "\n",
        "A = np.random.rand(6,6)\n",
        "C = A.T.dot(A) + np.eye(6) # generation of an arbitrary positive definite matrix\n",
        "c = invKM(C)\n",
        "print(\"C =\\n\",C)\n",
        "print(\"c =\\n\",c)\n",
        "assert np.allclose(KM(c), C), \"error: KM(c) should be equal to C\""
      ],
      "execution_count": null,
      "outputs": []
    },
    {
      "cell_type": "markdown",
      "metadata": {},
      "source": [
        "$\\,$"
      ]
    }
  ],
  "metadata": {
    "kernelspec": {
      "name": "python3",
      "language": "python",
      "display_name": "Python 3 (ipykernel)",
      "path": "C:\\Python\\share\\jupyter\\kernels\\python3"
    }
  },
  "nbformat": 4,
  "nbformat_minor": 4
}