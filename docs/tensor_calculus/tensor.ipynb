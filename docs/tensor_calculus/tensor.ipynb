{
  "cells": [
    {
      "cell_type": "markdown",
      "metadata": {},
      "source": [
        "# The `tensor` object {#sec-tensor}\n",
        "\n",
        "::: {.callout-important icon=false} \n",
        "\n",
        "## {{< iconify pajamas issue-type-objective >}} Objectives\n",
        "\n",
        "This tutorial presents the object `tensor` which is the main structure of `echoes` allowing to represent symmetric second-order or fourth-order tensors both in matrix and synthetic forms and containing information about anisotropy.\n",
        "\n",
        ":::\n",
        "\n",
        "::: {.callout-note icon=false collapse=true} \n",
        "\n",
        "## {{< iconify flowbite download-outline >}} Download\n",
        "\n",
        "- [Python script](tensor.py)\n",
        "\n",
        "- [Jupyter notebook](tensor.ipynb)\n",
        "\n",
        ":::\n",
        "\n",
        "::: {.callout-tip icon=false collapse=true} \n",
        "\n",
        "## {{< iconify ix import >}} Imports"
      ]
    },
    {
      "cell_type": "code",
      "metadata": {},
      "source": [
        "#| error: false\n",
        "#| warning: false\n",
        "#| code-fold: false\n",
        "#| code-summary: Code for library imports\n",
        "#| include: true\n",
        "\n",
        "import numpy as np\n",
        "from echoes import *\n",
        "import math\n",
        "\n",
        "np.set_printoptions(precision=6, suppress=True)\n",
        "# to display only 6 significant digits of array components"
      ],
      "execution_count": null,
      "outputs": []
    },
    {
      "cell_type": "markdown",
      "metadata": {},
      "source": [
        ":::\n",
        "\n",
        "## Definition of the `tensor` object\n",
        "\n",
        "The `tensor` object is a structure designed to represent **symmetric** second-order or fourth-order tensors. It gathers four members\n",
        "\n",
        "- **the material symmetry**: `ISO` (isotropic), `TI` (transversely isotropic), \t`ORTHO` (orthotropic) or `ANISO` (anisotropic) *[other material symmetries exist but have not been implemented]*\n",
        "- **a condensed vector of parameters** *[as shown below the size of this vector unambiguously defines the order of the tensor]*\n",
        "- **a vector of angles (in radians)** *[if required]*\n",
        "- **a matrix** *[$3×3$ for a second-order or $6×6$ for a fourth-order tensor]*\n",
        "\n",
        "::: {.callout-warning} \n",
        "\n",
        "## Warning\n",
        "\n",
        "It is important to note that the `tensor` object is designed only to contain or retrieve information about a symmetric second-order or fourth-order tensor (for instance the material symmetry) and not to perform calculation. Although simple calculations such as addition, subtraction, multiplication by a scalar, inversion are available, most of other operations (products, contractions...) have not been implemented. To do so, it is necessary to extract the parameters or matrix and perform operations using usual `numpy` or `scipy` operations (`dot`, `einsum`...) before eventually building a new `tensor`.\n",
        "\n",
        ":::\n",
        "\n",
        "If `C` is a python variable of `tensor` type, its members can be accessed by\n",
        "\n",
        "- **material symmetry**: `C.sym`\n",
        "- **parameters**: `C.param` or `C.p`\n",
        "- **angles**: `C.angles`\n",
        "- **matrix**: `C.array` or `C.a`\n",
        "\n",
        "## Second-order tensors\n",
        "\n",
        "A symmetric second-order `tensor` object is designed by means of its three eigenvalues and the orientation of the eigenbasis through three Euler angles $\\theta$, $\\phi$ and $\\psi$ (see @fig-eurlerangles). It is built using one of the following constructors\n",
        "\n",
        "- `T = tensor(T₁, T₂, T₃, θ=0, ϕ=0, ψ=0)` # default values of the angles are 0\n",
        "- `T = tensor([T₁, T₂, T₃], angles=[0, 0, 0])`\n",
        "\n",
        "::: {.callout-warning} \n",
        "## Warning\n",
        "- The eigenvalues and eigenvectors are systematically reordered in decreasing order of eigenvalues and angles are recomputed accordingly.\n",
        "- The eigenvalues are analyzed in order to characterize the symmetry type between `ISO`, `TI` and `ORTHO`.\n",
        "- The Euler angles are not unique since unit eigenvectors are determined up to a multiplicative factor of ±1.\n",
        "- Note that the six parameters of the constructor `tensor` should not be confused with the components of the Kelvin-Mandel representation of symmetric second-order tensors (see @sec-KM).\n",
        ":::"
      ]
    },
    {
      "cell_type": "code",
      "metadata": {},
      "source": [
        "#| error: false\n",
        "#| warning: false\n",
        "#| code-fold: false\n",
        "#| include: true\n",
        "\n",
        "T = tensor(2., 1., 3.) ; print(T)"
      ],
      "execution_count": null,
      "outputs": []
    },
    {
      "cell_type": "code",
      "metadata": {},
      "source": [
        "#| error: false\n",
        "#| warning: false\n",
        "#| code-fold: false\n",
        "#| include: true\n",
        "\n",
        "π = math.pi\n",
        "T = tensor(2., 1., 2., π/3, π/4, π/5) ; print(T)"
      ],
      "execution_count": null,
      "outputs": []
    },
    {
      "cell_type": "code",
      "metadata": {},
      "source": [
        "#| error: false\n",
        "#| warning: false\n",
        "#| code-fold: false\n",
        "#| include: true\n",
        "\n",
        "T = tensor([2., 1., 3.], angles=[π/3, π/4, π/5]) ; print(T)"
      ],
      "execution_count": null,
      "outputs": []
    },
    {
      "cell_type": "markdown",
      "metadata": {},
      "source": [
        "A symmetric second-order `tensor` can also be built from a symmetric $3×3$ matrix. In this case a diagonalization is performed so as to find the `param` vector (the eigenvalues) and the `angles` determining the orientation of the eigenvectors (see @fig-eurlerangles)"
      ]
    },
    {
      "cell_type": "code",
      "metadata": {},
      "source": [
        "#| error: false\n",
        "#| warning: false\n",
        "#| code-fold: false\n",
        "#| include: true\n",
        "\n",
        "M = np.array([ [1.7668, 0.659068, 0.703171], \n",
        "               [0.659068, 2.24232, 0.120771], \n",
        "               [0.703171, 0.120771, 1.99088] ])\n",
        "T = tensor(M) ; print(T)"
      ],
      "execution_count": null,
      "outputs": []
    },
    {
      "cell_type": "markdown",
      "metadata": {},
      "source": [
        "## Isotropic fourth-order tensors (`ISO`)\n",
        "\n",
        "The special isotropic tensors $\\uuuu{I}$, $\\uuuu{J}$ and $\\uuuu{K}$ are available under the global variables `tId4`, `tJ4` and `tK4`."
      ]
    },
    {
      "cell_type": "code",
      "metadata": {},
      "source": [
        "#| error: false\n",
        "#| warning: false\n",
        "#| code-fold: false\n",
        "#| include: true\n",
        "\n",
        "for T in [tId4, tJ4, tK4]:\n",
        "    print(T)"
      ],
      "execution_count": null,
      "outputs": []
    },
    {
      "cell_type": "markdown",
      "metadata": {},
      "source": [
        "Any fourth-order tensor depends on two parameters $\\alpha$ and $\\beta$ such that $\\uuuu{T}=\\alpha \\uuuu{J} + \\beta \\uuuu{K}$ and can be built by one of these constructors\n",
        "\n",
        "- `T = tensor(α, β)`\n",
        "- `T = tensor([α, β])`\n",
        "- `T = tensor(np.array([α, β]))`"
      ]
    },
    {
      "cell_type": "code",
      "metadata": {},
      "source": [
        "#| error: false\n",
        "#| warning: false\n",
        "#| code-fold: false\n",
        "#| include: true\n",
        "\n",
        "α, β = 7.2, 6.1\n",
        "𝕋 = tensor(α, β)\n",
        "print(\"𝕋 =\\n\", 𝕋)\n",
        "print(\"𝕋.sym =\", 𝕋.sym)\n",
        "print(\"𝕋.a =\\n\", 𝕋.a)\n",
        "print(\"𝕋.angles =\", 𝕋.angles)\n",
        "print(\"𝕋.p =\", 𝕋.p)"
      ],
      "execution_count": null,
      "outputs": []
    },
    {
      "cell_type": "code",
      "metadata": {},
      "source": [
        "#| error: false\n",
        "#| warning: false\n",
        "#| code-fold: false\n",
        "#| include: true\n",
        "\n",
        "𝕀, 𝕁, 𝕂 = tId4, tJ4, tK4 # just to make it look nice!\n",
        "\n",
        "𝕋2 = α*𝕁 + β*𝕂\n",
        "print(\"𝕋2 =\\n\", 𝕋2)\n",
        "assert np.allclose(𝕋.a, 𝕋2.a), \"error 𝕋.a and 𝕋2.a should be equal\"\n",
        "assert np.allclose(𝕋.p, 𝕋2.p), \"error 𝕋.p and 𝕋2.p should be equal\""
      ],
      "execution_count": null,
      "outputs": []
    },
    {
      "cell_type": "markdown",
      "metadata": {},
      "source": [
        "A symmetric fourth-order tensor representing a stiffness tensor can also be built by means of\n",
        "\n",
        "- *bulk and shear moduli* `stiff_kmu(k, µ)` → $3\\,k \\uuuu{J} + 2\\,\\mu \\uuuu{K}$\n",
        "- *Young modulus and Poisson ratio* `stiff_Enu(E, ν)` → $\\frac{E}{1-2\\,\\nu} \\uuuu{J} + \\frac{E}{1+\\nu} \\uuuu{K}$\n",
        "- *Lamé moduli* `stiff_lambdamu(λ, μ)` → $3\\,\\lambda \\uuuu{J} + 2\\,\\mu \\uuuu{I}$\n",
        "    \n",
        "Some converters are also available (see [conversion table](https://en.wikipedia.org/wiki/Lam%C3%A9_parameters))\n",
        "\n",
        "- `E = E_from_kmu(k, µ)`\n",
        "- `ν = nu_from_kmu(k, µ)`\n",
        "- `k = k_from_Enu(E, ν)`\n",
        "- `µ = mu_from_Enu(E, ν)`\n",
        "- `E, ν = Enu_from_kmu(k, µ)`\n",
        "- `k, µ = kmu_from_Enu(E, ν)`"
      ]
    },
    {
      "cell_type": "code",
      "metadata": {},
      "source": [
        "#| error: false\n",
        "#| warning: false\n",
        "#| code-fold: false\n",
        "#| include: true\n",
        "\n",
        "k, µ = 72.5, 32.7\n",
        "ℂ = stiff_kmu(k, µ)\n",
        "print(\"ℂ =\\n\", ℂ)\n",
        "print(f\"E = {round(ℂ.E,2)} ; ν = {round(ℂ.nu,2)} ; λ = {round(ℂ.lamelambda,2)} ; μ = {round(ℂ.mu,2)}\")\n",
        "E, ν = Enu_from_kmu(k, µ)\n",
        "assert np.allclose([k, μ], [*kmu_from_Enu(E, ν)]), \"error kmu_from_Enu(E, ν) should return k, μ\""
      ],
      "execution_count": null,
      "outputs": []
    },
    {
      "cell_type": "markdown",
      "metadata": {},
      "source": [
        "## Symmetric transversely isotropic fourth-order tensors (`TI`)\n",
        "\n",
        "Such a tensor depends on 5 parameters and 2 angles $\\theta$ and $\\phi$ defining the orientation of the normal to the isotropy plane (see @fig-eurlerangles).\n",
        "\n",
        "The decomposition on the symmetric Walpole tensors writes by means of five parameters $(t_i)_{i=1,\\ldots,5}$. In the frame where $\\uv{n}=\\ve{3}$ the matrix is given by\n",
        "\n",
        "$$\n",
        "\\uuuu{T}=\\sum_{i=1}^5 t_i \\uuuu{W}^s_i\n",
        "\\mapsto\n",
        "\\left(\n",
        "\\begin{array}{cccccc}\n",
        "\\frac{t_2 + t_4}{2} & \\frac{t_2 - t_4}{2} & \\frac{\\sqrt{2} \\, t_3}{2} & 0 & 0 & 0 \\\\\n",
        "\\frac{t_2 - t_4}{2} & \\frac{t_2 + t_4}{2} & \\frac{\\sqrt{2} \\, t_3}{2} & 0 & 0 & 0 \\\\\n",
        "\\frac{\\sqrt{2} \\, t_3}{2} & \\frac{\\sqrt{2} \\, t_3}{2} & t_1 & 0 & 0 & 0 \\\\\n",
        "0 & 0 & 0 & t_5 & 0 & 0 \\\\\n",
        "0 & 0 & 0 & 0 & t_5 & 0 \\\\\n",
        "0 & 0 & 0 & 0 & 0 & t_4 \\\\\n",
        "\\end{array}\n",
        "\\right)\n",
        "$$\n",
        "\n",
        "A fourth-order transversely isotropic tensor can be built by one of these constructors\n",
        "\n",
        "- `T = tensor(t1, t2, t3, t4, t5, θ=0, ϕ=0)`\n",
        "- `T = tensor(param, angles=[0, 0])`\n",
        "\n",
        "where `param` is a `list` or a `numpy.ndarray` of 5 items and `angles` is a `list` or a `numpy.ndarray` of 2 items `θ, ϕ` (if `angles` is omitted the angles are null and the axis is oriented along $\\ve{3}$)"
      ]
    },
    {
      "cell_type": "code",
      "metadata": {},
      "source": [
        "#| error: false\n",
        "#| warning: false\n",
        "#| code-fold: false\n",
        "#| include: true\n",
        "\n",
        "param = [3., 4., math.sqrt(2), 2., 1.]\n",
        "angles = [π/3, π/4]\n",
        "print(tensor(param))\n",
        "print(tensor(param, angles))"
      ],
      "execution_count": null,
      "outputs": []
    },
    {
      "cell_type": "markdown",
      "metadata": {},
      "source": [
        "It is also possible to build a `TI` tensor by means of 5 $C_{ijkl}$ moduli:\n",
        "\n",
        "$$\n",
        "(T_{1 1 1 1}, T_{1 1 2 2}, T_{1 1 3 3}, T_{3 3 3 3}, T_{2 3 2 3})\n",
        "\\mapsto\n",
        "\\left(\n",
        "\\begin{array}{cccccc}\n",
        "T_{1 1 1 1} & T_{1 1 2 2} & T_{1 1 3 3} & 0 & 0 & 0 \\\\\n",
        "T_{1 1 2 2} & T_{1 1 1 1} & T_{1 1 3 3} & 0 & 0 & 0 \\\\\n",
        "T_{1 1 3 3} & T_{1 1 3 3} & T_{3 3 3 3} & 0 & 0 & 0 \\\\\n",
        "0 & 0 & 0 & 2 \\, T_{2 3 2 3} & 0 & 0 \\\\\n",
        "0 & 0 & 0 & 0 & 2 \\, T_{2 3 2 3} & 0 \\\\\n",
        "0 & 0 & 0 & 0 & 0 & T_{1 1 1 1} - T_{1 1 2 2} \\\\\n",
        "\\end{array}\n",
        "\\right)\n",
        "$$\n",
        "\n",
        "by\n",
        "\n",
        "`T = stiff_TI(T₁₁₁₁, T₁₁₂₂, T₁₁₃₃, T₃₃₃₃, T₂₃₂₃, θ=0, ϕ=0)`"
      ]
    },
    {
      "cell_type": "code",
      "metadata": {},
      "source": [
        "#| error: false\n",
        "#| warning: false\n",
        "#| code-fold: false\n",
        "#| include: true\n",
        "\n",
        "T = stiff_TI(6.2, 5.6, 1.3, 2.1, 2.3)\n",
        "assert all(v > 0 for v in np.linalg.eigvals(T.a)), \"one eigenvalue is negative\"\n",
        "# check that T is positive definite\n",
        "print(T)\n",
        "print(stiff_TI(6.2, 5.6, 1.3, 2.1, 2.3, π/3, π/4))"
      ],
      "execution_count": null,
      "outputs": []
    },
    {
      "cell_type": "markdown",
      "metadata": {},
      "source": [
        "A engineering construction based on directional moduli and Poisson ratio is also available:\n",
        "\n",
        "$$\n",
        "(E_1, E_3, \\nu_{1 2}, \\nu_{3 1}, G_{3 1})\n",
        "\\mapsto\n",
        "\\left(\n",
        "\\begin{array}{cccccc}\n",
        "\\frac{1}{E_1} & \\frac{ - \\nu_{1 2}}{E_1} & \\frac{ - \\nu_{3 1}}{E_3} & 0 & 0 & 0 \\\\\n",
        "\\frac{ - \\nu_{1 2}}{E_1} & \\frac{1}{E_1} & \\frac{ - \\nu_{3 1}}{E_3} & 0 & 0 & 0 \\\\\n",
        "\\frac{ - \\nu_{3 1}}{E_3} & \\frac{ - \\nu_{3 1}}{E_3} & \\frac{1}{E_3} & 0 & 0 & 0 \\\\\n",
        "0 & 0 & 0 & \\frac{1}{2 \\, G_{3 1}} & 0 & 0 \\\\\n",
        "0 & 0 & 0 & 0 & \\frac{1}{2 \\, G_{3 1}} & 0 \\\\\n",
        "0 & 0 & 0 & 0 & 0 & \\frac{1 + \\nu_{1 2}}{E_1} \\\\\n",
        "\\end{array}\n",
        "\\right)\n",
        "$$\n",
        "\n",
        "by\n",
        "\n",
        "`S = comp_TI(E₁, E₃, ν₁₂, ν₃₁, G₃₁, θ=0, ϕ=0)`"
      ]
    },
    {
      "cell_type": "code",
      "metadata": {},
      "source": [
        "#| error: false\n",
        "#| warning: false\n",
        "#| code-fold: false\n",
        "#| include: true\n",
        "\n",
        "S = comp_TI(1., 4., 0.2, 0.1, 2.)\n",
        "print(S)\n",
        "print(inv(S))\n",
        "print(comp_TI(1., 4., 0.2, 0.1, 2., π/3, π/4))"
      ],
      "execution_count": null,
      "outputs": []
    },
    {
      "cell_type": "markdown",
      "metadata": {},
      "source": [
        "## Symmetric orthotropic fourth-order tensors (`ORTHO`)\n",
        "\n",
        "Such a tensor depends on 9 parameters and 3 angles $\\theta$, $\\phi$ and $\\psi$ defining the orientation of an orthonormal frame (see @fig-eurlerangles).\n",
        "\n",
        "The convention here relies on the components $T_{1 1 1 1}, T_{1 1 2 2}, T_{1 1 3 3}, T_{2 2 2 2}, T_{2 2 3 3}, T_{3 3 3 3}, T_{2 3 2 3}, T_{3 1 3 1}, T_{1 2 1 2}$ as inputs. In the canonical frame the matrix is given by\n",
        "\n",
        "$$\n",
        "\\small\n",
        "(T_{1 1 1 1}, T_{1 1 2 2}, T_{1 1 3 3}, T_{2 2 2 2}, T_{2 2 3 3}, T_{3 3 3 3}, T_{2 3 2 3}, T_{3 1 3 1}, T_{1 2 1 2})\n",
        "\\mapsto\n",
        "\\left(\n",
        "\\begin{array}{cccccc}\n",
        "T_{1 1 1 1} & T_{1 1 2 2} & T_{1 1 3 3} & 0 & 0 & 0 \\\\\n",
        "T_{1 1 2 2} & T_{2 2 2 2} & T_{2 2 3 3} & 0 & 0 & 0 \\\\\n",
        "T_{1 1 3 3} & T_{2 2 3 3} & T_{3 3 3 3} & 0 & 0 & 0 \\\\\n",
        "0 & 0 & 0 & 2 \\, T_{2 3 2 3} & 0 & 0 \\\\\n",
        "0 & 0 & 0 & 0 & 2 \\, T_{3 1 3 1} & 0 \\\\\n",
        "0 & 0 & 0 & 0 & 0 & 2 \\, T_{1 2 1 2} \\\\\n",
        "\\end{array}\n",
        "\\right)\n",
        "$$\n",
        "\n",
        "A fourth-order isotropic tensor can be built by one of these constructors\n",
        "\n",
        "- `T = tensor(T₁₁₁₁, T₁₁₂₂, T₁₁₃₃, T₂₂₂₂, T₂₂₃₃, T₃₃₃₃, T₂₃₂₃, T₃₁₃₁, T₁₂₁₂, θ=0, ϕ=0, ψ=0)`\n",
        "- `T = tensor(param, angles=[0, 0, 0])`\n",
        "\n",
        "where `param` is a `list` or a `numpy.ndarray` of 9 items and `angles` is a `list` or a `numpy.ndarray` of 3 items `θ, ϕ, ψ` (if `angles` is omitted the frame is the canonical one)."
      ]
    },
    {
      "cell_type": "code",
      "metadata": {},
      "source": [
        "#| error: false\n",
        "#| warning: false\n",
        "#| code-fold: false\n",
        "#| include: true\n",
        "\n",
        "T = tensor([9.,3.,5.,6.,3.,7.,1.,4.,3.])\n",
        "assert all(v > 0 for v in np.linalg.eigvals(T.a)), \"one eigenvalue is negative\" # check that T is positive definite\n",
        "print(T)\n",
        "print(tensor([9.,3.,5.,6.,3.,7.,1.,4.,3.], [π/3, π/4, π/5]))"
      ],
      "execution_count": null,
      "outputs": []
    },
    {
      "cell_type": "markdown",
      "metadata": {},
      "source": [
        "## Symmetric anisotropic fourth-order tensors (`ANISO`)\n",
        "\n",
        "Such a tensor depends on 21 parameters, by convention here the 21 components of the Kelvin-Mandel notation. Components are considered line after line of the upper triangular part of the Kelvin-Mandel matrix\n",
        "\n",
        "$$\n",
        "\\begin{array}{cccccc}\n",
        "   (T_{11},&T_{12},&T_{13},&T_{14},&T_{15},&T_{16}\\\\\n",
        "                          &T_{22},&T_{23},&T_{24},&T_{25},&T_{26}\\\\\n",
        "                          &            &T_{33},&T_{34},&T_{35},&T_{36}\\\\\n",
        "                          &            &             &T_{44},&T_{45},&T_{46}\\\\\n",
        "                          &            &             &            &T_{55},&T_{56}\\\\\n",
        "                          &            &             &            &            &T_{66})\n",
        "   \\end{array}\n",
        "\\mapsto\n",
        "\\left(\n",
        "\\begin{array}{cccccc}\n",
        "     T_{11}&T_{12}&T_{13}&T_{14}&T_{15}&T_{16}\\\\\n",
        "     T_{12}&T_{22}&T_{23}&T_{24}&T_{25}&T_{26}\\\\\n",
        "     T_{13}&T_{23}&T_{33}&T_{34}&T_{35}&T_{36}\\\\\n",
        "     T_{14}&T_{24}&T_{34}&T_{44}&T_{45}&T_{46}\\\\\n",
        "     T_{15}&T_{25}&T_{35}&T_{45}&T_{55}&T_{56}\\\\\n",
        "     T_{16}&T_{26}&T_{36}&T_{46}&T_{56}&T_{66}\n",
        "\\end{array}\n",
        "\\right)\n",
        "$$\n",
        "\n",
        "::: {.callout-warning} \n",
        "\n",
        "## Warning\n",
        "\n",
        "It is important to recall here that the parameters $T_{IJ}$ with $1\\leq I,J\\leq 6$ do not all coincide with the components $T_{ijkl}$. Indeed the convention presented in @sec-KM implies that $T_{11}=T_{1111}$ but $T_{14}=\\sqrt{2}\\,T_{1123}$ and $T_{44}=2\\,T_{2323}$.\n",
        "\n",
        ":::\n",
        "\n",
        "Such a tensor is built by\n",
        "\n",
        "`T = tensor(param)`\n",
        "\n",
        "where `param` is a `list` or a `numpy.ndarray` of 21 items."
      ]
    },
    {
      "cell_type": "code",
      "metadata": {},
      "source": [
        "#| error: false\n",
        "#| warning: false\n",
        "#| code-fold: false\n",
        "#| include: true\n",
        "\n",
        "param = [ 2.66011, 1.26432, 0.662772, 1.9402, 1.54905, 1.10384, 3.6072, 1.78964, 2.0247, 1.2701, 1.1089, 2.743, 1.3367, 1.2962, 0.897632, 4.42684, 2.05632, 1.52686, 3.54431, 1.3445, 1.99356 ]\n",
        "T = tensor(param)\n",
        "assert all(v > 0 for v in np.linalg.eigvals(T.a)), \"one eigenvalue is negative\" # check that T is positive definite\n",
        "print(T)"
      ],
      "execution_count": null,
      "outputs": []
    },
    {
      "cell_type": "markdown",
      "metadata": {},
      "source": [
        "## Construction of a fourth-order `tensor` from a $6×6$ matrix and projections\n",
        "\n",
        "Given a symmetric positive definite $6×6$ matrix `M` (warning: these properties are not checked on construction), a tensor can be built by one of the function\n",
        "\n",
        "- `T = tensor(M)`\n",
        "- `T = tensor(M, angles=[θ, ϕ])`\n",
        "\n",
        "By default, this function finds out whether `M` represents an `ISO`, `TI` or `ORTHO` tensor in the canonical frame if `angles` is not precised or in the frame defined by `angles`. If none of these symmetries is suitable, the tensor is considered `ANISO`."
      ]
    },
    {
      "cell_type": "code",
      "metadata": {},
      "source": [
        "#| error: false\n",
        "#| warning: false\n",
        "#| code-fold: false\n",
        "#| include: true\n",
        "\n",
        "angles = [π/3, π/4, π/5]\n",
        "T = tensor([9.,3.,5.,6.,3.,7.,1.,4.,3.], angles)\n",
        "M = T.a\n",
        "print(\"M =\\n\", M) # the information about ORTHO symmetry has vanished in M\n",
        "T2 = tensor(M, angles=angles)\n",
        "print(T2)"
      ],
      "execution_count": null,
      "outputs": []
    },
    {
      "cell_type": "markdown",
      "metadata": {},
      "source": [
        "Given a $6×6$ matrix supposed to represent a tensor in the canonical frame, it is possible to find the closest tensor (in the sense of least-squares relatively to the euclidean matrix norm) among a family of given material symmetry. The syntax is simply `T = tensor(M, SYM)` where `SYM` denotes the chosen class of symmetry (`ISO`, `TI`, `ORTHO`).\n",
        "\n",
        "For example the closest `ISO` tensor is calculated by\n",
        "\n",
        "`T = tensor(M, ISO)`\n",
        "\n",
        "In this case it boils down to the \"isotropisation\" of the tensor $\\uuuu{T}$ given by [@bornert2001a]\n",
        "\n",
        "$$\n",
        "\\ISO(\\uuuu{T})=\\left(\\uuuu{T}::\\uuuu{J}\\right)\\,\\uuuu{J}+\\left(\\frac{\\uuuu{T}::\\uuuu{K}}{5}\\right)\\,\\uuuu{K}\n",
        "$$"
      ]
    },
    {
      "cell_type": "code",
      "metadata": {},
      "source": [
        "#| error: false\n",
        "#| warning: false\n",
        "#| code-fold: false\n",
        "#| include: true\n",
        "\n",
        "M = np.array([ [2.66011, 1.26432, 0.662772, 1.9402, 1.54905, 1.10384],\n",
        "               [1.26432, 3.6072, 1.78964, 2.0247, 1.2701, 1.1089], \n",
        "               [0.662772, 1.78964, 2.743, 1.3367, 1.2962, 0.897632], \n",
        "               [1.9402, 2.0247 ,1.3367, 4.42684, 2.05632, 1.52686], \n",
        "               [1.54905, 1.2701, 1.2962, 2.05632, 3.54431, 1.3445], \n",
        "               [1.10384, 1.1089, 0.897632, 1.52686, 1.3445, 1.99356] ])\n",
        "\n",
        "T = tensor(M,ISO)\n",
        "print(\"T =\\n\", T)\n",
        "\n",
        "cont4=lambda T1,T2:np.einsum('ij,ij',T1,T2) # T1 and T2 in KM notation so 2 indices\n",
        "T2 = tensor(cont4(M,J4), cont4(M,K4)/5)\n",
        "print(\"T2 =\\n\", T2)"
      ],
      "execution_count": null,
      "outputs": []
    },
    {
      "cell_type": "markdown",
      "metadata": {},
      "source": [
        "Check a well-known result stating that the inverse of the closest isotropic tensor is in general **not** the closest isotropic tensor of the inverse."
      ]
    },
    {
      "cell_type": "code",
      "metadata": {},
      "source": [
        "#| error: false\n",
        "#| warning: false\n",
        "#| code-fold: false\n",
        "#| include: true\n",
        "\n",
        "M = np.array([ [2.66011, 1.26432, 0.662772, 1.9402, 1.54905, 1.10384],\n",
        "               [1.26432, 3.6072, 1.78964, 2.0247, 1.2701, 1.1089], \n",
        "               [0.662772, 1.78964, 2.743, 1.3367, 1.2962, 0.897632], \n",
        "               [1.9402, 2.0247 ,1.3367, 4.42684, 2.05632, 1.52686], \n",
        "               [1.54905, 1.2701, 1.2962, 2.05632, 3.54431, 1.3445], \n",
        "               [1.10384, 1.1089, 0.897632, 1.52686, 1.3445, 1.99356] ])\n",
        "T = tensor(M, ISO)\n",
        "print(\"inv(ISO(M)) =\\n\", inv(tensor(M, ISO)))\n",
        "print(\"ISO(inv(M)) =\\n\", tensor(np.linalg.inv(M), ISO))"
      ],
      "execution_count": null,
      "outputs": []
    },
    {
      "cell_type": "markdown",
      "metadata": {},
      "source": [
        "The closest `TI` tensor in the frame defined by given angles is calculated by\n",
        "\n",
        "`T = tensor(M, TI, angles=[θ, ϕ], epsrel=1.e-3)` \n",
        "\n",
        "where `epsrel` is a relative stop criterion for the iterative least-square algorithm."
      ]
    },
    {
      "cell_type": "code",
      "metadata": {},
      "source": [
        "#| error: false\n",
        "#| warning: false\n",
        "#| code-fold: false\n",
        "#| include: true\n",
        "\n",
        "print(tensor(M, TI, angles=[π/3,π/4]))"
      ],
      "execution_count": null,
      "outputs": []
    },
    {
      "cell_type": "markdown",
      "metadata": {},
      "source": [
        "One can also optimize with respect to the angles so as to find the best frame for a given symmetry\n",
        "\n",
        "`T = tensor(M, TI, epsrel=1.e-3, optiangles=True)`\n",
        "\n",
        "where `epsrel` is a relative stop criterion for the iterative least-square algorithm."
      ]
    },
    {
      "cell_type": "code",
      "metadata": {},
      "source": [
        "#| error: false\n",
        "#| warning: false\n",
        "#| code-fold: false\n",
        "#| include: true\n",
        "\n",
        "print(tensor(M, TI, epsrel=1.e-3, optiangles=True))"
      ],
      "execution_count": null,
      "outputs": []
    },
    {
      "cell_type": "markdown",
      "metadata": {},
      "source": [
        "::: {.callout-caution icon=false} \n",
        "\n",
        "## {{< iconify healthicons exercise-outline >}} Exercise\n",
        "\n",
        "1. Find the closest `ORTHO` tensor `T` from the previous matrix `M` (also optimizing the angles)\n",
        "\n",
        "1. Build a new tensor from the matrix of `T` (in the canonical frame)\n",
        "\n",
        "1. Build a new tensor from the matrix of `T` and the angles of `T`\n",
        "\n",
        "1. Find the tensor of best symmetry from the matrix of `T` with angle optimization"
      ]
    },
    {
      "cell_type": "code",
      "metadata": {},
      "source": [
        "#| error: false\n",
        "#| warning: false\n",
        "#| code-fold: true\n",
        "#| code-summary: Solution\n",
        "#| include: true\n",
        "\n",
        "M = np.array([ [2.66011, 1.26432, 0.662772, 1.9402, 1.54905, 1.10384],\n",
        "               [1.26432, 3.6072, 1.78964, 2.0247, 1.2701, 1.1089], \n",
        "               [0.662772, 1.78964, 2.743, 1.3367, 1.2962, 0.897632], \n",
        "               [1.9402, 2.0247 ,1.3367, 4.42684, 2.05632, 1.52686], \n",
        "               [1.54905, 1.2701, 1.2962, 2.05632, 3.54431, 1.3445], \n",
        "               [1.10384, 1.1089, 0.897632, 1.52686, 1.3445, 1.99356] ])\n",
        "T = tensor(M, ORTHO, optiangles=True) ; print(T)\n",
        "print(tensor(T.a))\n",
        "print(tensor(T.a, angles = T.angles))\n",
        "print(tensor(T.a, optiangles = True))"
      ],
      "execution_count": null,
      "outputs": []
    },
    {
      "cell_type": "markdown",
      "metadata": {},
      "source": [
        ":::\n",
        "\n",
        "$\\,$"
      ]
    }
  ],
  "metadata": {
    "kernelspec": {
      "name": "python3",
      "language": "python",
      "display_name": "Python 3 (ipykernel)",
      "path": "C:\\Python\\share\\jupyter\\kernels\\python3"
    }
  },
  "nbformat": 4,
  "nbformat_minor": 4
}