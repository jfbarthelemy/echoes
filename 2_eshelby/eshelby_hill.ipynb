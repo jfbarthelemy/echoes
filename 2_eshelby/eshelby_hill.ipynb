{
  "cells": [
    {
      "cell_type": "markdown",
      "metadata": {},
      "source": [
        "---\n",
        "format:\n",
        "  html:\n",
        "    code-links:\n",
        "      - text: Python script\n",
        "        icon: file-code\n",
        "        href: eshelby_hill.py\n",
        "      - text: Jupyter notebook\n",
        "        icon: file-code\n",
        "        href: eshelby_hill.ipynb\n",
        "---\n",
        "\n",
        "# Eshelby and Hill polarization tensors {#sec-eshelby_hill}\n",
        "\n",
        "::: {.callout-important icon=false} \n",
        "\n",
        "## {{< iconify pajamas issue-type-objective >}} Objectives\n",
        "\n",
        "This tutorial provides the instructions to build Eshelby and Hill polarization tensors related to an ellipsoidal shape embedded in an infinite elastic matrix of arbitrary anisotropy.\n",
        "\n",
        ":::\n",
        "\n",
        "::: {.callout-tip icon=false collapse=true} \n",
        "\n",
        "## {{< iconify ix import >}} Imports"
      ]
    },
    {
      "cell_type": "code",
      "metadata": {},
      "source": [
        "#| error: false\n",
        "#| warning: false\n",
        "#| code-fold: false\n",
        "#| code-summary: Code for library imports\n",
        "#| include: true\n",
        "\n",
        "import numpy as np\n",
        "from echoes import *\n",
        "import math\n",
        "\n",
        "np.set_printoptions(precision=8, suppress=True)\n",
        "# to display only 8 significant digits of array components"
      ],
      "execution_count": null,
      "outputs": []
    },
    {
      "cell_type": "markdown",
      "metadata": {},
      "source": [
        ":::\n",
        "\n",
        "## The Eshelby inclusion problem in elasticity [@eshelby1957]\n",
        "\n",
        "Let the studied domain be the whole $\\R^3$ space here filled with a linear elastic material of uniform stiffness tensor $\\uuuu{C}$. An ellipsoid centered at the origin of the domain is defined by the equation\n",
        "\n",
        "$$\n",
        "   \\uv{x}\\in\\mathcal{E}_{\\uu{A}}\n",
        "\\quad\\Leftrightarrow\\quad   \n",
        "\\uv{x}\\cdot(\\trans{\\uu{A}}\\cdot\\uu{A})^{-1}\\cdot\\uv{x}\\leq 1\n",
        "$${#eq-defell}\n",
        "where $\\uu{A}$ is an invertible second-order tensor so that $\\trans{\\uu{A}}\\cdot\\uu{A}$ is a positive definite symmetric tensor associated to 3 radii (eigenvalues $a\\geq b \\geq c$ possibly written $\\rho_1 \\geq \\rho_2 \\geq \\rho_3$ for convenience) and 3 angles (orientation of the frame of orthonormal eigenvectors $\\uv{e}^{\\uu{A}}_1, \\uv{e}^{\\uu{A}}_2, \\uv{e}^{\\uu{A}}_3$)\n",
        "$$\n",
        "\\trans{\\uu{A}}\\cdot\\uu{A}=a^2 \\uv{e}^{\\uu{A}}_1\\otimes\\uv{e}^{\\uu{A}}_1 + b^2 \\uv{e}^{\\uu{A}}_2\\otimes\\uv{e}^{\\uu{A}}_2 + c^2 \\uv{e}^{\\uu{A}}_3\\otimes\\uv{e}^{\\uu{A}}_3 = \\sum_{i=1}^3 \\rho_i^2 \\uv{e}^{\\uu{A}}_i\\otimes\\uv{e}^{\\uu{A}}_i\n",
        "$$\n",
        "\n",
        "A polarization field is introduced as a second-order symmetric tensor field $\\uu{\\tau}$ such that the constitutive law of the medium is given by\n",
        "\n",
        "$$\n",
        "    \\sig(\\x)=\\uuuu{C}:\\eps(\\x)+\\uu{\\tau}(\\x)\\quad\\textrm{where}\\quad\n",
        "    \\uu{\\tau}(\\x)=\n",
        "    \\left\\{\n",
        "    \\begin{array}{ll}\n",
        "    \\uu{0}&\\textrm{ if }\\x \\notin \\mathcal{E}_{\\uu{A}}\\\\\n",
        "    \\uu{\\tau}\\textrm{ (uniform)}&\\textrm{ if }\\x \\in \\mathcal{E}_{\\uu{A}}\n",
        "    \\end{array}\n",
        "    \\right.\n",
        "$${#eq-law}\n",
        "\n",
        "In addition the displacement tends towards $\\uv{0}$ at infinity.\n",
        "\n",
        "::: {#fig-eurlerangles}\n",
        "\n",
        "![](../img/eshelbypbincl.png){width=30%}\n",
        "\n",
        "Eshelby inclusion problem\n",
        ":::\n",
        "\n",
        "The important result derived in [@eshelby1957] is that the strain tensor field solution to this problem is uniform within the ellipsoidal domain (not outside!) and writes\n",
        "\n",
        "$$\n",
        "   \\forall \\x \\in \\mathcal{E}_{\\uu{A}},\\quad \\eps(\\x)=-\\uuuu{P}:\\uu{\\tau}\\quad\\textrm{(uniform)}\n",
        "$${#eq-defHill}\n",
        "where $\\uuuu{P}$, called the Hill polarization tensor, depends on the shape and orientation of the ellipsoid (i.e. $\\uu{A}$ up to a multiplicative constant) and on the matrix behavior (i.e. $\\uuuu{C}$), in other words $\\uuuu{P}=\\uuuu{P}(\\uu{A},\\uuuu{C})$. See in @sec-hill_elas explicit expressions to calculate the Hill polarization tensor.\n",
        "\n",
        "The polarization problem can be alternatively posed thanks to an eigenstrain tensor $\\eps^*$, uniform in the ellipsoid, such that $\\eps^*=-\\uuuu{C}^{-1}:\\uu{\\tau}$. It follows that (@eq-law) rewrites\n",
        "\n",
        "$$\n",
        "    \\sig(\\x)=\\uuuu{C}:(\\eps(\\x)-\\eps^*(\\x))\\quad\\textrm{where}\\quad\n",
        "    \\eps^*(\\x)=\n",
        "    \\left\\{\n",
        "    \\begin{array}{ll}\n",
        "    \\uu{0}&\\textrm{ if }\\x \\notin \\mathcal{E}_{\\uu{A}}\\\\\n",
        "    \\eps^*\\textrm{ (uniform)}&\\textrm{ if }\\x \\in \\mathcal{E}_{\\uu{A}}\n",
        "    \\end{array}\n",
        "    \\right.\n",
        "$${#eq-law2}\n",
        "and the Eshelby tensor $\\uuuu{S}$ is introduced by rewriting (@eq-defHill) under the form\n",
        "$$\n",
        "   \\forall \\x \\in \\mathcal{E}_{\\uu{A}},\\quad \\eps(\\x)=\\uuuu{S}:\\eps^*\\quad\\textrm{where}\\quad\\uuuu{S}=\\uuuu{P}:\\uuuu{C}\n",
        "$${#eq-defEshelby}\n",
        "\n",
        "A straightforward consequence of the uniformity of the strain state wihin the ellipsoid is the uniformity of the stress state. A dual point of view of the expression (@eq-defHill) consists in relating the uniform stress within the ellipsoid to the eigenstrain introduced in (@eq-law2). Using (@eq-defEshelby) in (@eq-law2) allows to exhibit the dual counterpart of (@eq-defHill) involving the so-called second Hill polarization tensor $\\uuuu{Q}$\n",
        "$$\n",
        "   \\forall \\x \\in \\mathcal{E}_{\\uu{A}},\\quad \\sig(\\x)=-\\uuuu{Q}:\\eps^*\\quad\\textrm{with}\\quad\\uuuu{Q}=\\uuuu{C}-\\uuuu{C}:\\uuuu{P}:\\uuuu{C}\n",
        "$${#eq-defsecondHill}\n",
        "\n",
        "\n",
        "## Definition of the `ellipsoidal` shape {#sec-ellipsoidal}\n",
        "\n",
        "An `ellipsoidal` shape intended for use in the construction of $\\uuuu{P}$ can be built by means of the following constructor\n",
        "\n",
        "`shape = ellipsoidal(a, b, c, θ=0., ϕ=0., ψ=0.) # default values 0 for the angles`\n",
        "\n",
        "where $a, b, c$ are the radii and $\\theta, \\phi, \\psi$ the Euler angles already presented in @fig-eulerangles"
      ]
    },
    {
      "cell_type": "code",
      "metadata": {},
      "source": [
        "#| error: false\n",
        "#| warning: false\n",
        "#| code-fold: false\n",
        "#| include: true\n",
        "\n",
        "π = math.pi\n",
        "a, b, c = 10., 5., 2.\n",
        "θ, ϕ, ψ = π/3, π/4, π/5\n",
        "print(ellipsoidal(a, b, c, θ, ϕ, ψ))"
      ],
      "execution_count": null,
      "outputs": []
    },
    {
      "cell_type": "markdown",
      "metadata": {},
      "source": [
        "::: {.callout-warning} \n",
        "\n",
        "## Warning\n",
        "\n",
        "If the radii are not entered in decreasing order, the constructor reorders them and recomputes the angles accordingly.\n",
        "\n",
        ":::\n",
        "\n",
        "See below how the constructor reorders the radii and recomputes the angles accordingly"
      ]
    },
    {
      "cell_type": "code",
      "metadata": {},
      "source": [
        "#| error: false\n",
        "#| warning: false\n",
        "#| code-fold: false\n",
        "#| include: true\n",
        "\n",
        "print(ellipsoidal(c, b, a, θ, ϕ, ψ))"
      ],
      "execution_count": null,
      "outputs": []
    },
    {
      "cell_type": "markdown",
      "metadata": {},
      "source": [
        "When two radii are equal the ellipsoidal shape becomes a spheroidal one which can also be directly defined by\n",
        "\n",
        "`shape = spheroidal(ω, θ=0., ϕ=0.) # default values 0 for the angles`\n",
        "\n",
        "where $\\omega$ is the aspect ratio ($\\omega \\leq 1$ for an oblate shape and $\\omega \\geq 1$ for a prolate shape) (see @fig-spheroidal).\n",
        "\n",
        "::: {#fig-spheroidal layout-ncol=2}\n",
        "\n",
        "![Oblate](../img/oblate){#fig-oblate}\n",
        "\n",
        "![Prolate](../img/prolate){#fig-prolate}\n",
        "\n",
        "Spheroidal shapes\n",
        ":::"
      ]
    },
    {
      "cell_type": "code",
      "metadata": {},
      "source": [
        "#| error: false\n",
        "#| warning: false\n",
        "#| code-fold: false\n",
        "#| include: true\n",
        "\n",
        "ω = 0.1\n",
        "print(spheroidal(ω, θ, ϕ))"
      ],
      "execution_count": null,
      "outputs": []
    },
    {
      "cell_type": "markdown",
      "metadata": {},
      "source": [
        "Finally if the three radii are equal, the shape becomes spherical\n",
        "\n",
        "`shape = spherical`\n",
        "\n",
        "::: {.callout-warning} \n",
        "\n",
        "## Warning\n",
        "\n",
        "These objects are supposed to describe an inclusion in the Eshelby problem, thus they are defined up to a multiplicative constant. This explains why the spheroidal shape is defined only with an aspect ratio and the sphere is not defined with a radius. On the contrary the general ellipsoidal shape depends on three radii but the result of $\\uuuu{P}$ will only depend on two ratios.\n",
        "\n",
        ":::"
      ]
    },
    {
      "cell_type": "code",
      "metadata": {},
      "source": [
        "#| error: false\n",
        "#| warning: false\n",
        "#| code-fold: false\n",
        "#| include: true\n",
        "\n",
        "print(spherical)"
      ],
      "execution_count": null,
      "outputs": []
    },
    {
      "cell_type": "markdown",
      "metadata": {},
      "source": [
        "## Calculation of Hill and Eshelby tensors for an isotropic matrix\n",
        "\n",
        "The Hill, second Hill and Eshelby tensors are simply calculated by\n",
        "\n",
        "- `P = hill(shape, C)`\n",
        "- `Q = hill_dual(shape, C)`\n",
        "- `S = eshelby(shape, C)`\n",
        "\n",
        "where `shape` is an ellipsoidal shape as previously defined and `C` is an isotropic tensor.\n",
        "\n",
        "Note that an isotropic tensor `C` simply allows to resort to analytical expressions as seen in @sec-hill_elas. The anisotropic cases are also available with numerical algorithms as will be seen below.\n",
        "\n",
        "::: {.callout-warning} \n",
        "\n",
        "## Warning\n",
        "\n",
        "The functions `hill` and `eshelby` return $6×6$ matrices i.e. of type `numpy.ndarray` (not `tensor`). It is however possible to build a `tensor` object from the matrix for the Hill tensor $\\uuuu{P}$ since the latter is always positive definite. This is not in general the case for the Eshelby tensor $\\uuuu{S}$.\n",
        "\n",
        ":::"
      ]
    },
    {
      "cell_type": "code",
      "metadata": {},
      "source": [
        "#| error: false\n",
        "#| warning: false\n",
        "#| code-fold: false\n",
        "#| include: true\n",
        "\n",
        "a, b, c = 10., 5., 2.\n",
        "θ, ϕ, ψ = π/3, π/4, π/5\n",
        "k, µ = 72., 32. \n",
        "shape = ellipsoidal(a, b, c, θ, ϕ, ψ)\n",
        "C = stiff_kmu(k, µ)\n",
        "P = hill(shape, C)\n",
        "print(\"P =\\n\", P)"
      ],
      "execution_count": null,
      "outputs": []
    },
    {
      "cell_type": "markdown",
      "metadata": {},
      "source": [
        "A `tensor` object can be constructed"
      ]
    },
    {
      "cell_type": "code",
      "metadata": {},
      "source": [
        "#| error: false\n",
        "#| warning: false\n",
        "#| code-fold: false\n",
        "#| include: true\n",
        "\n",
        "print(\"tensor P =\\n\", tensor(P, optiangles=True))"
      ],
      "execution_count": null,
      "outputs": []
    },
    {
      "cell_type": "code",
      "metadata": {},
      "source": [
        "#| error: false\n",
        "#| warning: false\n",
        "#| code-fold: false\n",
        "#| include: true\n",
        "\n",
        "S = eshelby(shape, C)\n",
        "print(\"S =\\n\", S)"
      ],
      "execution_count": null,
      "outputs": []
    },
    {
      "cell_type": "markdown",
      "metadata": {},
      "source": [
        "::: {.callout-caution icon=false} \n",
        "\n",
        "## {{< iconify healthicons exercise-outline >}} Exercise\n",
        "\n",
        "For a spherical shape we have"
      ]
    },
    {
      "cell_type": "code",
      "metadata": {},
      "source": [
        "#| error: false\n",
        "#| warning: false\n",
        "#| code-fold: false\n",
        "#| include: true\n",
        "\n",
        "k, µ = 72., 32. ; C = stiff_kmu(k, µ)\n",
        "print(\"P =\\n\", hill(spherical,C))"
      ],
      "execution_count": null,
      "outputs": []
    },
    {
      "cell_type": "markdown",
      "metadata": {},
      "source": [
        "Check the following formula for the Hill tensor related to a sphere in an isotropic matrix\n",
        "\n",
        "$$\n",
        "\\uuuu{P}(\\uu{1},3\\,k\\,\\uuuu{J}+2\\,\\mu\\,\\uuuu{K})=\\frac{1}{3\\,k+4\\,\\mu}\\,\\left(\\uuuu{J}+\\frac{3\\,(k+2\\,\\mu)}{5\\,\\mu}\\uuuu{K}\\right)\n",
        "$$"
      ]
    },
    {
      "cell_type": "code",
      "metadata": {},
      "source": [
        "#| error: false\n",
        "#| warning: false\n",
        "#| code-fold: true\n",
        "#| code-summary: Solution\n",
        "#| include: true\n",
        "\n",
        "P = 1/(3*k+4*µ)*(J4+3*(k+2*µ)/(5*μ)*K4)\n",
        "print(\"P =\\n\", P)"
      ],
      "execution_count": null,
      "outputs": []
    },
    {
      "cell_type": "markdown",
      "metadata": {},
      "source": [
        ":::\n",
        "\n",
        "## Calculation of Hill and Eshelby tensors for an arbitrary anisotropic matrix \n",
        "\n",
        "The Hill, second Hill and Eshelby tensors are numerically calculated by\n",
        "\n",
        "- `P = hill(shape, C, algo=NUMINT, epsroots=1.e-4, epsabs=1.e-4, epsrel=1.e-4, maxnb=100000)`\n",
        "- `Q = hill_dual(shape, C, algo=NUMINT, epsroots=1.e-4, epsabs=1.e-4, epsrel=1.e-4, maxnb=100000)`\n",
        "- `S = eshelby(shape, C, algo=NUMINT, epsroots=1.e-4, epsabs=1.e-4, epsrel=1.e-4, maxnb=100000)`\n",
        "\n",
        "where the keyword argument `algo` can be either `NUMINT` or `RESIDUES` (default: `NUMINT`).\n",
        "\n",
        "- `NUMINT` based on the cubature DECUHR algorithm provided in [@espelid1994] applied on the integral formulation (@eq-Hill) over the unit sphere\n",
        "    - `epsabs` is the tolerance of absolute error (default: 1.e-4)\n",
        "    - `epsrel` is the tolerance of relative error (default: 1.e-4)\n",
        "    - `maxnb` is the maximum number of subdivisions (default: 100000)\n",
        "    \n",
        "  For more information about these parameters see [@espelid1994]. \n",
        "\n",
        "- `RESIDUES` based on the residue Cauchy theorem to transform the 2D cubature over the unit sphere (@eq-Hill) into a 1D quadrature as demonstrated in [@masson2008]\n",
        "    - `epsroots` is the tolerance for the criterion of multiple poles, i.e. if the distance between two poles of the integrand function is under this value they are considered as a unique multiple pole (default: 1.e-4)\n",
        "    - `epsabs` is the tolerance of absolute error for the 1D quadrature (default: 1.e-4)\n",
        "    - `epsrel` is the tolerance of relative error for the 1D quadrature (default: 1.e-4)\n",
        "    - `maxnb` is the maximum number of subdivisions for the 1D quadrature (default: 100000)\n",
        " \n",
        "::: {.callout-warning} \n",
        "\n",
        "## Warning\n",
        "\n",
        "The `RESIDUES` algorithm is much faster than the `NUMINT` one in case of full anisotropy. Nevertheless the latter proves to be more robust in the neighborhood of symmetry axes where the presence of close poles may induce numerical errors in the application of the Cauchy residue theorem. This is why `NUMINT` is chosen by default.\n",
        "\n",
        ":::"
      ]
    },
    {
      "cell_type": "code",
      "metadata": {},
      "source": [
        "#| error: false\n",
        "#| warning: false\n",
        "#| code-fold: false\n",
        "#| include: true\n",
        "\n",
        "param = [ 2.66011, 1.26432, 0.662772, 1.9402, 1.54905, 1.10384, 3.6072, 1.78964, 2.0247, 1.2701, 1.1089, 2.743, 1.3367, 1.2962, 0.897632, 4.42684, 2.05632, 1.52686, 3.54431, 1.3445, 1.99356 ]\n",
        "C = tensor(param)\n",
        "print(\"Hill tensor using NUMINT algorithm\\n\", hill(shape, C, algo=NUMINT),\"\\n\")"
      ],
      "execution_count": null,
      "outputs": []
    },
    {
      "cell_type": "code",
      "metadata": {},
      "source": [
        "#| error: false\n",
        "#| warning: false\n",
        "#| code-fold: false\n",
        "#| include: true\n",
        "\n",
        "print(\"Hill tensor using RESIDUES algorithm\\n\", hill(shape, C, algo=RESIDUES))"
      ],
      "execution_count": null,
      "outputs": []
    },
    {
      "cell_type": "markdown",
      "metadata": {},
      "source": [
        "See below how a too large `epsroots` parameter can degrade the precision of the result"
      ]
    },
    {
      "cell_type": "code",
      "metadata": {},
      "source": [
        "#| error: false\n",
        "#| warning: false\n",
        "#| code-fold: false\n",
        "#| include: true\n",
        "\n",
        "param = [3.,4.,math.sqrt(2),2.,1.]\n",
        "np.random.seed(1948)\n",
        "α = 1.e-2*np.random.rand(6, 6)\n",
        "C = tensor(param)+tensor((α+α.T)/2) ; print(\"C =\\n\",C)\n",
        "print(\"P(NUMINT) =\\n\", hill(shape, C, algo=NUMINT),\"\\n\")"
      ],
      "execution_count": null,
      "outputs": []
    },
    {
      "cell_type": "code",
      "metadata": {},
      "source": [
        "#| error: false\n",
        "#| warning: false\n",
        "#| code-fold: false\n",
        "#| include: true\n",
        "\n",
        "for ϵ in [1.e-4, 1.e-2, 1.e-1]:\n",
        "    print(f\"ϵ={ϵ}\\n\", \"  P =\\n\", hill(shape, C, algo=RESIDUES, epsroots=ϵ),\"\\n\")"
      ],
      "execution_count": null,
      "outputs": []
    },
    {
      "cell_type": "markdown",
      "metadata": {},
      "source": [
        "$\\,$"
      ]
    }
  ],
  "metadata": {
    "kernelspec": {
      "name": "python3",
      "language": "python",
      "display_name": "Python 3 (ipykernel)",
      "path": "C:\\Python\\share\\jupyter\\kernels\\python3"
    }
  },
  "nbformat": 4,
  "nbformat_minor": 4
}